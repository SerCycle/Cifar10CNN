{
  "cells": [
    {
      "cell_type": "markdown",
      "metadata": {
        "id": "aEoRsa2M8J4U"
      },
      "source": [
        "**Import Library**"
      ]
    },
    {
      "cell_type": "code",
      "execution_count": 49,
      "metadata": {
        "id": "RR7sR1407fC3"
      },
      "outputs": [],
      "source": [
        "import tensorflow as tf\n",
        "\n",
        "from tensorflow.keras import datasets, layers, models\n",
        "import matplotlib.pyplot as plt"
      ]
    },
    {
      "cell_type": "markdown",
      "metadata": {
        "id": "LuAIOMfm8ssK"
      },
      "source": [
        "**Download and prepare the CIFAR-10 dataset**"
      ]
    },
    {
      "cell_type": "code",
      "execution_count": 50,
      "metadata": {
        "colab": {
          "base_uri": "https://localhost:8080/"
        },
        "id": "KBUsOuS68yb3",
        "outputId": "3cc80fb0-d036-467a-93ed-be7e93f0a74e"
      },
      "outputs": [],
      "source": [
        "(train_images, train_labels), (test_images, test_labels) = datasets.cifar10.load_data()"
      ]
    },
    {
      "cell_type": "code",
      "execution_count": 52,
      "metadata": {
        "id": "_pzP_TC29qgY"
      },
      "outputs": [],
      "source": [
        "train_images, test_images = train_images / 255.0, test_images / 255.0"
      ]
    },
    {
      "cell_type": "markdown",
      "metadata": {
        "id": "lMgnseSG_QpS"
      },
      "source": [
        "**Feature Extraction - Convolutional Base**"
      ]
    },
    {
      "cell_type": "code",
      "execution_count": 54,
      "metadata": {
        "colab": {
          "base_uri": "https://localhost:8080/"
        },
        "id": "YTrEG_4TANA2",
        "outputId": "27f78084-9700-43a8-8178-f271044e0d92"
      },
      "outputs": [
        {
          "data": {
            "text/plain": [
              "(32, 32, 3)"
            ]
          },
          "execution_count": 54,
          "metadata": {},
          "output_type": "execute_result"
        }
      ],
      "source": [
        "train_images[100].shape"
      ]
    },
    {
      "cell_type": "code",
      "execution_count": 99,
      "metadata": {
        "id": "9XiQ_W5N_Wyx"
      },
      "outputs": [],
      "source": [
        "model = models.Sequential()\n",
        "model.add(layers.Conv2D( 16, (3,3), activation='relu', input_shape=(32,32,3) ) )\n",
        "model.add(layers.MaxPooling2D( (2,2) ))\n",
        "model.add(layers.Conv2D( 16, (3,3), activation='relu' ) )\n",
        "model.add(layers.MaxPooling2D( (2,2) ))\n",
        "model.add(layers.Conv2D( 16, (3,3), activation='relu' ) )\n",
        "model.add(layers.Dropout(0.25))"
      ]
    },
    {
      "cell_type": "code",
      "execution_count": 100,
      "metadata": {
        "colab": {
          "base_uri": "https://localhost:8080/"
        },
        "id": "ZPZrZwqjAwa1",
        "outputId": "4a9c614b-a3f3-4ff7-b7a2-62acaf8e0bb0"
      },
      "outputs": [
        {
          "name": "stdout",
          "output_type": "stream",
          "text": [
            "Model: \"sequential_13\"\n",
            "_________________________________________________________________\n",
            " Layer (type)                Output Shape              Param #   \n",
            "=================================================================\n",
            " conv2d_38 (Conv2D)          (None, 30, 30, 16)        448       \n",
            "                                                                 \n",
            " max_pooling2d_17 (MaxPoolin  (None, 15, 15, 16)       0         \n",
            " g2D)                                                            \n",
            "                                                                 \n",
            " conv2d_39 (Conv2D)          (None, 13, 13, 16)        2320      \n",
            "                                                                 \n",
            " max_pooling2d_18 (MaxPoolin  (None, 6, 6, 16)         0         \n",
            " g2D)                                                            \n",
            "                                                                 \n",
            " conv2d_40 (Conv2D)          (None, 4, 4, 16)          2320      \n",
            "                                                                 \n",
            " dropout_3 (Dropout)         (None, 4, 4, 16)          0         \n",
            "                                                                 \n",
            "=================================================================\n",
            "Total params: 5,088\n",
            "Trainable params: 5,088\n",
            "Non-trainable params: 0\n",
            "_________________________________________________________________\n"
          ]
        }
      ],
      "source": [
        "model.summary()"
      ]
    },
    {
      "cell_type": "markdown",
      "metadata": {
        "id": "rCHJbGRnA_e3"
      },
      "source": [
        "**Flatten & Fully Connected Layer**"
      ]
    },
    {
      "cell_type": "code",
      "execution_count": 101,
      "metadata": {
        "id": "iEtb8_85BE9W"
      },
      "outputs": [],
      "source": [
        "model.add(layers.Flatten())\n",
        "model.add(layers.Dense(100, activation= 'relu'))\n",
        "model.add(layers.Dense(100))"
      ]
    },
    {
      "cell_type": "code",
      "execution_count": 102,
      "metadata": {
        "colab": {
          "base_uri": "https://localhost:8080/"
        },
        "id": "yWNm-RKuC-hw",
        "outputId": "8fc0189b-08b2-4c1b-c914-883fb2705179"
      },
      "outputs": [
        {
          "name": "stdout",
          "output_type": "stream",
          "text": [
            "Model: \"sequential_13\"\n",
            "_________________________________________________________________\n",
            " Layer (type)                Output Shape              Param #   \n",
            "=================================================================\n",
            " conv2d_38 (Conv2D)          (None, 30, 30, 16)        448       \n",
            "                                                                 \n",
            " max_pooling2d_17 (MaxPoolin  (None, 15, 15, 16)       0         \n",
            " g2D)                                                            \n",
            "                                                                 \n",
            " conv2d_39 (Conv2D)          (None, 13, 13, 16)        2320      \n",
            "                                                                 \n",
            " max_pooling2d_18 (MaxPoolin  (None, 6, 6, 16)         0         \n",
            " g2D)                                                            \n",
            "                                                                 \n",
            " conv2d_40 (Conv2D)          (None, 4, 4, 16)          2320      \n",
            "                                                                 \n",
            " dropout_3 (Dropout)         (None, 4, 4, 16)          0         \n",
            "                                                                 \n",
            " flatten_12 (Flatten)        (None, 256)               0         \n",
            "                                                                 \n",
            " dense_18 (Dense)            (None, 100)               25700     \n",
            "                                                                 \n",
            " dense_19 (Dense)            (None, 100)               10100     \n",
            "                                                                 \n",
            "=================================================================\n",
            "Total params: 40,888\n",
            "Trainable params: 40,888\n",
            "Non-trainable params: 0\n",
            "_________________________________________________________________\n"
          ]
        }
      ],
      "source": [
        "model.summary()"
      ]
    },
    {
      "cell_type": "markdown",
      "metadata": {
        "id": "aLTWxtJ6DI69"
      },
      "source": [
        "**Compile and train the model**"
      ]
    },
    {
      "cell_type": "code",
      "execution_count": 103,
      "metadata": {
        "id": "LYydqMhEDIMs"
      },
      "outputs": [],
      "source": [
        "model.compile(optimizer='adam',\n",
        "              loss=tf.keras.losses.SparseCategoricalCrossentropy(from_logits=True),\n",
        "              metrics=['accuracy'])"
      ]
    },
    {
      "cell_type": "code",
      "execution_count": 104,
      "metadata": {
        "colab": {
          "base_uri": "https://localhost:8080/",
          "height": 659
        },
        "id": "nWsOJAFQD6Vt",
        "outputId": "a7a1c328-e5f2-48ed-a70a-ea01d9bec0a8"
      },
      "outputs": [
        {
          "name": "stdout",
          "output_type": "stream",
          "text": [
            "Epoch 1/10\n",
            "50000/50000 [==============================] - 68s 1ms/step - loss: 1.6912 - accuracy: 0.3741 - val_loss: 1.4569 - val_accuracy: 0.4543\n",
            "Epoch 2/10\n",
            "50000/50000 [==============================] - 71s 1ms/step - loss: 1.5232 - accuracy: 0.4458 - val_loss: 1.4151 - val_accuracy: 0.4835\n",
            "Epoch 3/10\n",
            "50000/50000 [==============================] - 73s 1ms/step - loss: 1.4920 - accuracy: 0.4665 - val_loss: 1.4109 - val_accuracy: 0.4923\n",
            "Epoch 4/10\n",
            "50000/50000 [==============================] - 71s 1ms/step - loss: 1.4633 - accuracy: 0.4744 - val_loss: 1.3486 - val_accuracy: 0.5049\n",
            "Epoch 5/10\n",
            "50000/50000 [==============================] - 69s 1ms/step - loss: 1.4503 - accuracy: 0.4801 - val_loss: 1.4729 - val_accuracy: 0.4619\n",
            "Epoch 6/10\n",
            "50000/50000 [==============================] - 70s 1ms/step - loss: 1.4534 - accuracy: 0.4809 - val_loss: 1.4200 - val_accuracy: 0.4889\n",
            "Epoch 7/10\n",
            "50000/50000 [==============================] - 70s 1ms/step - loss: 1.4436 - accuracy: 0.4832 - val_loss: 1.3417 - val_accuracy: 0.5176\n",
            "Epoch 8/10\n",
            "50000/50000 [==============================] - 70s 1ms/step - loss: 1.4429 - accuracy: 0.4875 - val_loss: 1.4282 - val_accuracy: 0.4894\n",
            "Epoch 9/10\n",
            "50000/50000 [==============================] - 70s 1ms/step - loss: 1.4433 - accuracy: 0.4841 - val_loss: 1.4082 - val_accuracy: 0.4921\n",
            "Epoch 10/10\n",
            "50000/50000 [==============================] - 69s 1ms/step - loss: 1.4516 - accuracy: 0.4815 - val_loss: 1.3773 - val_accuracy: 0.5063\n"
          ]
        }
      ],
      "source": [
        "history = model.fit(train_images, train_labels, epochs=10, batch_size=1, validation_data=(test_images, test_labels))"
      ]
    },
    {
      "cell_type": "markdown",
      "metadata": {
        "id": "4e0M3MXBGEUR"
      },
      "source": [
        "**Evaluate the model**"
      ]
    },
    {
      "cell_type": "code",
      "execution_count": 105,
      "metadata": {
        "colab": {
          "base_uri": "https://localhost:8080/"
        },
        "id": "8GddxZiCGf3D",
        "outputId": "5b2f34ea-c085-4a98-db2b-594943050616"
      },
      "outputs": [
        {
          "name": "stdout",
          "output_type": "stream",
          "text": [
            "313/313 [==============================] - 1s 3ms/step - loss: 1.3773 - accuracy: 0.5063\n"
          ]
        }
      ],
      "source": [
        "test_loss, test_acc = model.evaluate(test_images, test_labels)"
      ]
    },
    {
      "cell_type": "code",
      "execution_count": 106,
      "metadata": {
        "colab": {
          "base_uri": "https://localhost:8080/",
          "height": 279
        },
        "id": "5gaXnaZ_GDak",
        "outputId": "2819e3de-2c68-4616-96f3-384163a546d3"
      },
      "outputs": [
        {
          "data": {
            "image/png": "[encoded data removed]",
            "text/plain": [
              "<Figure size 432x288 with 1 Axes>"
            ]
          },
          "metadata": {
            "needs_background": "light"
          },
          "output_type": "display_data"
        }
      ],
      "source": [
        "plt.plot(history.history['accuracy'], label='accuracy')\n",
        "plt.plot(history.history['val_accuracy'], label='val_accuracy')\n",
        "plt.xlabel('Epoch')\n",
        "plt.ylabel('Accuracy')\n",
        "plt.show()\n",
        "\n",
        "\n"
      ]
    },
    {
      "cell_type": "code",
      "execution_count": 107,
      "metadata": {
        "colab": {
          "base_uri": "https://localhost:8080/",
          "height": 279
        },
        "id": "SxIoOUXaGtrN",
        "outputId": "4d1fb2f9-8070-4bce-f80d-81d8781e27c6"
      },
      "outputs": [
        {
          "data": {
            "image/png": "[encoded data removed]",
            "text/plain": [
              "<Figure size 432x288 with 1 Axes>"
            ]
          },
          "metadata": {
            "needs_background": "light"
          },
          "output_type": "display_data"
        }
      ],
      "source": [
        "plt.plot(history.history['loss'], label='loss')\n",
        "plt.plot(history.history['val_loss'], label='val_loss')\n",
        "plt.xlabel('Epoch')\n",
        "plt.ylabel('Loss')\n",
        "plt.show()\n",
        "\n",
        "\n"
      ]
    }
  ],
  "metadata": {
    "accelerator": "GPU",
    "colab": {
      "name": "Object Detection using CNN.ipynb",
      "provenance": []
    },
    "kernelspec": {
      "display_name": "Python 3",
      "name": "python3"
    },
    "language_info": {
      "codemirror_mode": {
        "name": "ipython",
        "version": 3
      },
      "file_extension": ".py",
      "mimetype": "text/x-python",
      "name": "python",
      "nbconvert_exporter": "python",
      "pygments_lexer": "ipython3",
      "version": "3.10.2"
    }
  },
  "nbformat": 4,
  "nbformat_minor": 0
}
