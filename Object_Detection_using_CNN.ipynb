{
  "cells": [
    {
      "cell_type": "markdown",
      "metadata": {
        "id": "aEoRsa2M8J4U"
      },
      "source": [
        "**Import Library**"
      ]
    },
    {
      "cell_type": "code",
      "execution_count": 1,
      "metadata": {
        "id": "RR7sR1407fC3"
      },
      "outputs": [],
      "source": [
        "import tensorflow as tf\n",
        "\n",
        "from tensorflow.keras import datasets, layers, models\n",
        "import matplotlib.pyplot as plt"
      ]
    },
    {
      "cell_type": "markdown",
      "metadata": {
        "id": "LuAIOMfm8ssK"
      },
      "source": [
        "**Download and prepare the CIFAR-10 dataset**"
      ]
    },
    {
      "cell_type": "code",
      "execution_count": 2,
      "metadata": {
        "colab": {
          "base_uri": "https://localhost:8080/"
        },
        "id": "KBUsOuS68yb3",
        "outputId": "3cc80fb0-d036-467a-93ed-be7e93f0a74e"
      },
      "outputs": [],
      "source": [
        "(train_images, train_labels), (test_images, test_labels) = datasets.cifar10.load_data()"
      ]
    },
    {
      "cell_type": "code",
      "execution_count": 3,
      "metadata": {
        "id": "_pzP_TC29qgY"
      },
      "outputs": [],
      "source": [
        "train_images, test_images = train_images / 255.0, test_images / 255.0"
      ]
    },
    {
      "cell_type": "markdown",
      "metadata": {
        "id": "lMgnseSG_QpS"
      },
      "source": [
        "**Feature Extraction - Convolutional Base**"
      ]
    },
    {
      "cell_type": "code",
      "execution_count": 4,
      "metadata": {
        "colab": {
          "base_uri": "https://localhost:8080/"
        },
        "id": "YTrEG_4TANA2",
        "outputId": "27f78084-9700-43a8-8178-f271044e0d92"
      },
      "outputs": [
        {
          "data": {
            "text/plain": [
              "(32, 32, 3)"
            ]
          },
          "execution_count": 4,
          "metadata": {},
          "output_type": "execute_result"
        }
      ],
      "source": [
        "train_images[100].shape"
      ]
    },
    {
      "cell_type": "code",
      "execution_count": 74,
      "metadata": {
        "id": "9XiQ_W5N_Wyx"
      },
      "outputs": [],
      "source": [
        "model = models.Sequential()\n",
        "model.add(layers.Conv2D( 32, (3,3), activation='relu', input_shape=(32,32,3) ) )\n",
        "model.add(layers.MaxPooling2D( (2,2) ))\n",
        "model.add(layers.Conv2D( 32, (3,3), activation='relu' ) )\n",
        "model.add(layers.MaxPooling2D( (2,2) ))\n",
        "model.add(layers.Conv2D( 32, (3,3), activation='relu' ) )\n",
        "model.add(layers.Dropout(0.1))"
      ]
    },
    {
      "cell_type": "code",
      "execution_count": 75,
      "metadata": {
        "colab": {
          "base_uri": "https://localhost:8080/"
        },
        "id": "ZPZrZwqjAwa1",
        "outputId": "4a9c614b-a3f3-4ff7-b7a2-62acaf8e0bb0"
      },
      "outputs": [
        {
          "name": "stdout",
          "output_type": "stream",
          "text": [
            "Model: \"sequential_12\"\n",
            "_________________________________________________________________\n",
            " Layer (type)                Output Shape              Param #   \n",
            "=================================================================\n",
            " conv2d_36 (Conv2D)          (None, 30, 30, 32)        896       \n",
            "                                                                 \n",
            " max_pooling2d_24 (MaxPoolin  (None, 15, 15, 32)       0         \n",
            " g2D)                                                            \n",
            "                                                                 \n",
            " conv2d_37 (Conv2D)          (None, 13, 13, 32)        9248      \n",
            "                                                                 \n",
            " max_pooling2d_25 (MaxPoolin  (None, 6, 6, 32)         0         \n",
            " g2D)                                                            \n",
            "                                                                 \n",
            " conv2d_38 (Conv2D)          (None, 4, 4, 32)          9248      \n",
            "                                                                 \n",
            " dropout_10 (Dropout)        (None, 4, 4, 32)          0         \n",
            "                                                                 \n",
            "=================================================================\n",
            "Total params: 19,392\n",
            "Trainable params: 19,392\n",
            "Non-trainable params: 0\n",
            "_________________________________________________________________\n"
          ]
        }
      ],
      "source": [
        "model.summary()"
      ]
    },
    {
      "cell_type": "markdown",
      "metadata": {
        "id": "rCHJbGRnA_e3"
      },
      "source": [
        "**Flatten & Fully Connected Layer**"
      ]
    },
    {
      "cell_type": "code",
      "execution_count": 76,
      "metadata": {
        "id": "iEtb8_85BE9W"
      },
      "outputs": [],
      "source": [
        "model.add(layers.Flatten())\n",
        "model.add(layers.Dense(256, activation= 'relu'))\n",
        "model.add(layers.Dense(256))"
      ]
    },
    {
      "cell_type": "code",
      "execution_count": 77,
      "metadata": {
        "colab": {
          "base_uri": "https://localhost:8080/"
        },
        "id": "yWNm-RKuC-hw",
        "outputId": "8fc0189b-08b2-4c1b-c914-883fb2705179"
      },
      "outputs": [
        {
          "name": "stdout",
          "output_type": "stream",
          "text": [
            "Model: \"sequential_12\"\n",
            "_________________________________________________________________\n",
            " Layer (type)                Output Shape              Param #   \n",
            "=================================================================\n",
            " conv2d_36 (Conv2D)          (None, 30, 30, 32)        896       \n",
            "                                                                 \n",
            " max_pooling2d_24 (MaxPoolin  (None, 15, 15, 32)       0         \n",
            " g2D)                                                            \n",
            "                                                                 \n",
            " conv2d_37 (Conv2D)          (None, 13, 13, 32)        9248      \n",
            "                                                                 \n",
            " max_pooling2d_25 (MaxPoolin  (None, 6, 6, 32)         0         \n",
            " g2D)                                                            \n",
            "                                                                 \n",
            " conv2d_38 (Conv2D)          (None, 4, 4, 32)          9248      \n",
            "                                                                 \n",
            " dropout_10 (Dropout)        (None, 4, 4, 32)          0         \n",
            "                                                                 \n",
            " flatten_9 (Flatten)         (None, 512)               0         \n",
            "                                                                 \n",
            " dense_18 (Dense)            (None, 256)               131328    \n",
            "                                                                 \n",
            " dense_19 (Dense)            (None, 256)               65792     \n",
            "                                                                 \n",
            "=================================================================\n",
            "Total params: 216,512\n",
            "Trainable params: 216,512\n",
            "Non-trainable params: 0\n",
            "_________________________________________________________________\n"
          ]
        }
      ],
      "source": [
        "model.summary()"
      ]
    },
    {
      "cell_type": "markdown",
      "metadata": {
        "id": "aLTWxtJ6DI69"
      },
      "source": [
        "**Compile and train the model**"
      ]
    },
    {
      "cell_type": "code",
      "execution_count": 78,
      "metadata": {
        "id": "LYydqMhEDIMs"
      },
      "outputs": [],
      "source": [
        "model.compile(optimizer='adam',\n",
        "              loss=tf.keras.losses.SparseCategoricalCrossentropy(from_logits=True),\n",
        "              metrics=['accuracy'])"
      ]
    },
    {
      "cell_type": "code",
      "execution_count": 79,
      "metadata": {
        "colab": {
          "base_uri": "https://localhost:8080/",
          "height": 659
        },
        "id": "nWsOJAFQD6Vt",
        "outputId": "a7a1c328-e5f2-48ed-a70a-ea01d9bec0a8"
      },
      "outputs": [
        {
          "name": "stdout",
          "output_type": "stream",
          "text": [
            "Epoch 1/10\n",
            "500/500 [==============================] - 19s 38ms/step - loss: 1.8515 - accuracy: 0.3338 - val_loss: 1.4745 - val_accuracy: 0.4615\n",
            "Epoch 2/10\n",
            "500/500 [==============================] - 19s 38ms/step - loss: 1.4157 - accuracy: 0.4859 - val_loss: 1.3134 - val_accuracy: 0.5256\n",
            "Epoch 3/10\n",
            "500/500 [==============================] - 19s 39ms/step - loss: 1.2820 - accuracy: 0.5414 - val_loss: 1.2303 - val_accuracy: 0.5547\n",
            "Epoch 4/10\n",
            "500/500 [==============================] - 18s 36ms/step - loss: 1.1983 - accuracy: 0.5738 - val_loss: 1.1688 - val_accuracy: 0.5805\n",
            "Epoch 5/10\n",
            "500/500 [==============================] - 17s 35ms/step - loss: 1.1147 - accuracy: 0.6033 - val_loss: 1.1129 - val_accuracy: 0.6048\n",
            "Epoch 6/10\n",
            "500/500 [==============================] - 19s 38ms/step - loss: 1.0523 - accuracy: 0.6287 - val_loss: 1.0188 - val_accuracy: 0.6414\n",
            "Epoch 7/10\n",
            "500/500 [==============================] - 19s 37ms/step - loss: 0.9947 - accuracy: 0.6495 - val_loss: 1.0181 - val_accuracy: 0.6417\n",
            "Epoch 8/10\n",
            "500/500 [==============================] - 19s 38ms/step - loss: 0.9477 - accuracy: 0.6651 - val_loss: 0.9600 - val_accuracy: 0.6613\n",
            "Epoch 9/10\n",
            "500/500 [==============================] - 19s 38ms/step - loss: 0.8934 - accuracy: 0.6853 - val_loss: 0.9450 - val_accuracy: 0.6693\n",
            "Epoch 10/10\n",
            "500/500 [==============================] - 19s 39ms/step - loss: 0.8539 - accuracy: 0.6994 - val_loss: 0.9106 - val_accuracy: 0.6818\n"
          ]
        }
      ],
      "source": [
        "history = model.fit(train_images, train_labels, epochs=10, batch_size=100, validation_data=(test_images, test_labels))"
      ]
    },
    {
      "cell_type": "markdown",
      "metadata": {
        "id": "4e0M3MXBGEUR"
      },
      "source": [
        "**Evaluate the model**"
      ]
    },
    {
      "cell_type": "code",
      "execution_count": 80,
      "metadata": {
        "colab": {
          "base_uri": "https://localhost:8080/"
        },
        "id": "8GddxZiCGf3D",
        "outputId": "5b2f34ea-c085-4a98-db2b-594943050616"
      },
      "outputs": [
        {
          "name": "stdout",
          "output_type": "stream",
          "text": [
            "313/313 [==============================] - 1s 4ms/step - loss: 0.9106 - accuracy: 0.6818\n"
          ]
        }
      ],
      "source": [
        "test_loss, test_acc = model.evaluate(test_images, test_labels)"
      ]
    },
    {
      "cell_type": "code",
      "execution_count": 81,
      "metadata": {
        "colab": {
          "base_uri": "https://localhost:8080/",
          "height": 279
        },
        "id": "5gaXnaZ_GDak",
        "outputId": "2819e3de-2c68-4616-96f3-384163a546d3"
      },
      "outputs": [
        {
          "data": {
            "image/png": "[encoded data removed]",
            "text/plain": [
              "<Figure size 432x288 with 1 Axes>"
            ]
          },
          "metadata": {
            "needs_background": "light"
          },
          "output_type": "display_data"
        }
      ],
      "source": [
        "plt.plot(history.history['accuracy'], label='accuracy')\n",
        "plt.plot(history.history['val_accuracy'], label='val_accuracy')\n",
        "plt.xlabel('Epoch')\n",
        "plt.ylabel('Accuracy')\n",
        "plt.show()\n",
        "\n",
        "\n"
      ]
    },
    {
      "cell_type": "code",
      "execution_count": 82,
      "metadata": {
        "colab": {
          "base_uri": "https://localhost:8080/",
          "height": 279
        },
        "id": "SxIoOUXaGtrN",
        "outputId": "4d1fb2f9-8070-4bce-f80d-81d8781e27c6"
      },
      "outputs": [
        {
          "data": {
            "image/png": "[encoded data removed]",
            "text/plain": [
              "<Figure size 432x288 with 1 Axes>"
            ]
          },
          "metadata": {
            "needs_background": "light"
          },
          "output_type": "display_data"
        }
      ],
      "source": [
        "plt.plot(history.history['loss'], label='loss')\n",
        "plt.plot(history.history['val_loss'], label='val_loss')\n",
        "plt.xlabel('Epoch')\n",
        "plt.ylabel('Loss')\n",
        "plt.show()\n",
        "\n",
        "\n"
      ]
    }
  ],
  "metadata": {
    "accelerator": "GPU",
    "colab": {
      "name": "Object Detection using CNN.ipynb",
      "provenance": []
    },
    "kernelspec": {
      "display_name": "Python 3",
      "name": "python3"
    },
    "language_info": {
      "codemirror_mode": {
        "name": "ipython",
        "version": 3
      },
      "file_extension": ".py",
      "mimetype": "text/x-python",
      "name": "python",
      "nbconvert_exporter": "python",
      "pygments_lexer": "ipython3",
      "version": "3.10.2"
    }
  },
  "nbformat": 4,
  "nbformat_minor": 0
}
