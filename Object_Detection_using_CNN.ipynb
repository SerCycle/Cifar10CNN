{
  "cells": [
    {
      "cell_type": "markdown",
      "metadata": {
        "id": "aEoRsa2M8J4U"
      },
      "source": [
        "**Import Library**"
      ]
    },
    {
      "cell_type": "code",
      "execution_count": 1,
      "metadata": {
        "id": "RR7sR1407fC3"
      },
      "outputs": [],
      "source": [
        "import tensorflow as tf\n",
        "\n",
        "from tensorflow.keras import datasets, layers, models\n",
        "import matplotlib.pyplot as plt"
      ]
    },
    {
      "cell_type": "markdown",
      "metadata": {
        "id": "LuAIOMfm8ssK"
      },
      "source": [
        "**Download and prepare the CIFAR-10 dataset**"
      ]
    },
    {
      "cell_type": "code",
      "execution_count": 2,
      "metadata": {
        "colab": {
          "base_uri": "https://localhost:8080/"
        },
        "id": "KBUsOuS68yb3",
        "outputId": "3cc80fb0-d036-467a-93ed-be7e93f0a74e"
      },
      "outputs": [],
      "source": [
        "(train_images, train_labels), (test_images, test_labels) = datasets.cifar10.load_data()"
      ]
    },
    {
      "cell_type": "code",
      "execution_count": 3,
      "metadata": {
        "id": "_pzP_TC29qgY"
      },
      "outputs": [],
      "source": [
        "train_images, test_images = train_images / 255.0, test_images / 255.0"
      ]
    },
    {
      "cell_type": "markdown",
      "metadata": {
        "id": "lMgnseSG_QpS"
      },
      "source": [
        "**Feature Extraction - Convolutional Base**"
      ]
    },
    {
      "cell_type": "code",
      "execution_count": 4,
      "metadata": {
        "colab": {
          "base_uri": "https://localhost:8080/"
        },
        "id": "YTrEG_4TANA2",
        "outputId": "27f78084-9700-43a8-8178-f271044e0d92"
      },
      "outputs": [
        {
          "data": {
            "text/plain": [
              "(32, 32, 3)"
            ]
          },
          "execution_count": 4,
          "metadata": {},
          "output_type": "execute_result"
        }
      ],
      "source": [
        "train_images[100].shape"
      ]
    },
    {
      "cell_type": "code",
      "execution_count": 65,
      "metadata": {
        "id": "9XiQ_W5N_Wyx"
      },
      "outputs": [],
      "source": [
        "model = models.Sequential()\n",
        "model.add(layers.Conv2D( 16, (3,3), activation='relu', input_shape=(32,32,3) ) )\n",
        "model.add(layers.MaxPooling2D( (2,2) ))\n",
        "model.add(layers.Conv2D( 16, (3,3), activation='relu' ) )\n",
        "model.add(layers.MaxPooling2D( (2,2) ))\n",
        "model.add(layers.Conv2D( 16, (3,3), activation='relu' ) )\n",
        "model.add(layers.Dropout(0.25))"
      ]
    },
    {
      "cell_type": "code",
      "execution_count": 66,
      "metadata": {
        "colab": {
          "base_uri": "https://localhost:8080/"
        },
        "id": "ZPZrZwqjAwa1",
        "outputId": "4a9c614b-a3f3-4ff7-b7a2-62acaf8e0bb0"
      },
      "outputs": [
        {
          "name": "stdout",
          "output_type": "stream",
          "text": [
            "Model: \"sequential_11\"\n",
            "_________________________________________________________________\n",
            " Layer (type)                Output Shape              Param #   \n",
            "=================================================================\n",
            " conv2d_33 (Conv2D)          (None, 30, 30, 16)        448       \n",
            "                                                                 \n",
            " max_pooling2d_22 (MaxPoolin  (None, 15, 15, 16)       0         \n",
            " g2D)                                                            \n",
            "                                                                 \n",
            " conv2d_34 (Conv2D)          (None, 13, 13, 16)        2320      \n",
            "                                                                 \n",
            " max_pooling2d_23 (MaxPoolin  (None, 6, 6, 16)         0         \n",
            " g2D)                                                            \n",
            "                                                                 \n",
            " conv2d_35 (Conv2D)          (None, 4, 4, 16)          2320      \n",
            "                                                                 \n",
            " dropout_9 (Dropout)         (None, 4, 4, 16)          0         \n",
            "                                                                 \n",
            "=================================================================\n",
            "Total params: 5,088\n",
            "Trainable params: 5,088\n",
            "Non-trainable params: 0\n",
            "_________________________________________________________________\n"
          ]
        }
      ],
      "source": [
        "model.summary()"
      ]
    },
    {
      "cell_type": "markdown",
      "metadata": {
        "id": "rCHJbGRnA_e3"
      },
      "source": [
        "**Flatten & Fully Connected Layer**"
      ]
    },
    {
      "cell_type": "code",
      "execution_count": 67,
      "metadata": {
        "id": "iEtb8_85BE9W"
      },
      "outputs": [],
      "source": [
        "model.add(layers.Flatten())\n",
        "model.add(layers.Dense(256, activation= 'relu'))\n",
        "model.add(layers.Dense(256))"
      ]
    },
    {
      "cell_type": "code",
      "execution_count": 68,
      "metadata": {
        "colab": {
          "base_uri": "https://localhost:8080/"
        },
        "id": "yWNm-RKuC-hw",
        "outputId": "8fc0189b-08b2-4c1b-c914-883fb2705179"
      },
      "outputs": [
        {
          "name": "stdout",
          "output_type": "stream",
          "text": [
            "Model: \"sequential_11\"\n",
            "_________________________________________________________________\n",
            " Layer (type)                Output Shape              Param #   \n",
            "=================================================================\n",
            " conv2d_33 (Conv2D)          (None, 30, 30, 16)        448       \n",
            "                                                                 \n",
            " max_pooling2d_22 (MaxPoolin  (None, 15, 15, 16)       0         \n",
            " g2D)                                                            \n",
            "                                                                 \n",
            " conv2d_34 (Conv2D)          (None, 13, 13, 16)        2320      \n",
            "                                                                 \n",
            " max_pooling2d_23 (MaxPoolin  (None, 6, 6, 16)         0         \n",
            " g2D)                                                            \n",
            "                                                                 \n",
            " conv2d_35 (Conv2D)          (None, 4, 4, 16)          2320      \n",
            "                                                                 \n",
            " dropout_9 (Dropout)         (None, 4, 4, 16)          0         \n",
            "                                                                 \n",
            " flatten_8 (Flatten)         (None, 256)               0         \n",
            "                                                                 \n",
            " dense_16 (Dense)            (None, 256)               65792     \n",
            "                                                                 \n",
            " dense_17 (Dense)            (None, 256)               65792     \n",
            "                                                                 \n",
            "=================================================================\n",
            "Total params: 136,672\n",
            "Trainable params: 136,672\n",
            "Non-trainable params: 0\n",
            "_________________________________________________________________\n"
          ]
        }
      ],
      "source": [
        "model.summary()"
      ]
    },
    {
      "cell_type": "markdown",
      "metadata": {
        "id": "aLTWxtJ6DI69"
      },
      "source": [
        "**Compile and train the model**"
      ]
    },
    {
      "cell_type": "code",
      "execution_count": 69,
      "metadata": {
        "id": "LYydqMhEDIMs"
      },
      "outputs": [],
      "source": [
        "model.compile(optimizer='adam',\n",
        "              loss=tf.keras.losses.SparseCategoricalCrossentropy(from_logits=True),\n",
        "              metrics=['accuracy'])"
      ]
    },
    {
      "cell_type": "code",
      "execution_count": 70,
      "metadata": {
        "colab": {
          "base_uri": "https://localhost:8080/",
          "height": 659
        },
        "id": "nWsOJAFQD6Vt",
        "outputId": "a7a1c328-e5f2-48ed-a70a-ea01d9bec0a8"
      },
      "outputs": [
        {
          "name": "stdout",
          "output_type": "stream",
          "text": [
            "Epoch 1/10\n",
            "500/500 [==============================] - 12s 23ms/step - loss: 1.9042 - accuracy: 0.3168 - val_loss: 1.5683 - val_accuracy: 0.4241\n",
            "Epoch 2/10\n",
            "500/500 [==============================] - 12s 23ms/step - loss: 1.5205 - accuracy: 0.4485 - val_loss: 1.4374 - val_accuracy: 0.4892\n",
            "Epoch 3/10\n",
            "500/500 [==============================] - 12s 23ms/step - loss: 1.4035 - accuracy: 0.4962 - val_loss: 1.3245 - val_accuracy: 0.5206\n",
            "Epoch 4/10\n",
            "500/500 [==============================] - 11s 23ms/step - loss: 1.3278 - accuracy: 0.5234 - val_loss: 1.2524 - val_accuracy: 0.5533\n",
            "Epoch 5/10\n",
            "500/500 [==============================] - 13s 25ms/step - loss: 1.2644 - accuracy: 0.5473 - val_loss: 1.2141 - val_accuracy: 0.5664\n",
            "Epoch 6/10\n",
            "500/500 [==============================] - 12s 24ms/step - loss: 1.2206 - accuracy: 0.5676 - val_loss: 1.1619 - val_accuracy: 0.5893\n",
            "Epoch 7/10\n",
            "500/500 [==============================] - 11s 22ms/step - loss: 1.1781 - accuracy: 0.5804 - val_loss: 1.1482 - val_accuracy: 0.5978\n",
            "Epoch 8/10\n",
            "500/500 [==============================] - 11s 23ms/step - loss: 1.1418 - accuracy: 0.5930 - val_loss: 1.1133 - val_accuracy: 0.6038\n",
            "Epoch 9/10\n",
            "500/500 [==============================] - 11s 23ms/step - loss: 1.1030 - accuracy: 0.6072 - val_loss: 1.1152 - val_accuracy: 0.6057\n",
            "Epoch 10/10\n",
            "500/500 [==============================] - 11s 23ms/step - loss: 1.0766 - accuracy: 0.6166 - val_loss: 1.0667 - val_accuracy: 0.6215\n"
          ]
        }
      ],
      "source": [
        "history = model.fit(train_images, train_labels, epochs=10, batch_size=100, validation_data=(test_images, test_labels))"
      ]
    },
    {
      "cell_type": "markdown",
      "metadata": {
        "id": "4e0M3MXBGEUR"
      },
      "source": [
        "**Evaluate the model**"
      ]
    },
    {
      "cell_type": "code",
      "execution_count": 71,
      "metadata": {
        "colab": {
          "base_uri": "https://localhost:8080/"
        },
        "id": "8GddxZiCGf3D",
        "outputId": "5b2f34ea-c085-4a98-db2b-594943050616"
      },
      "outputs": [
        {
          "name": "stdout",
          "output_type": "stream",
          "text": [
            "313/313 [==============================] - 1s 3ms/step - loss: 1.0667 - accuracy: 0.6215\n"
          ]
        }
      ],
      "source": [
        "test_loss, test_acc = model.evaluate(test_images, test_labels)"
      ]
    },
    {
      "cell_type": "code",
      "execution_count": 72,
      "metadata": {
        "colab": {
          "base_uri": "https://localhost:8080/",
          "height": 279
        },
        "id": "5gaXnaZ_GDak",
        "outputId": "2819e3de-2c68-4616-96f3-384163a546d3"
      },
      "outputs": [
        {
          "data": {
            "image/png": "[encoded data removed]",
            "text/plain": [
              "<Figure size 432x288 with 1 Axes>"
            ]
          },
          "metadata": {
            "needs_background": "light"
          },
          "output_type": "display_data"
        }
      ],
      "source": [
        "plt.plot(history.history['accuracy'], label='accuracy')\n",
        "plt.plot(history.history['val_accuracy'], label='val_accuracy')\n",
        "plt.xlabel('Epoch')\n",
        "plt.ylabel('Accuracy')\n",
        "plt.show()\n",
        "\n",
        "\n"
      ]
    },
    {
      "cell_type": "code",
      "execution_count": 73,
      "metadata": {
        "colab": {
          "base_uri": "https://localhost:8080/",
          "height": 279
        },
        "id": "SxIoOUXaGtrN",
        "outputId": "4d1fb2f9-8070-4bce-f80d-81d8781e27c6"
      },
      "outputs": [
        {
          "data": {
            "image/png": "[encoded data removed]",
            "text/plain": [
              "<Figure size 432x288 with 1 Axes>"
            ]
          },
          "metadata": {
            "needs_background": "light"
          },
          "output_type": "display_data"
        }
      ],
      "source": [
        "plt.plot(history.history['loss'], label='loss')\n",
        "plt.plot(history.history['val_loss'], label='val_loss')\n",
        "plt.xlabel('Epoch')\n",
        "plt.ylabel('Loss')\n",
        "plt.show()\n",
        "\n",
        "\n"
      ]
    }
  ],
  "metadata": {
    "accelerator": "GPU",
    "colab": {
      "name": "Object Detection using CNN.ipynb",
      "provenance": []
    },
    "kernelspec": {
      "display_name": "Python 3",
      "name": "python3"
    },
    "language_info": {
      "codemirror_mode": {
        "name": "ipython",
        "version": 3
      },
      "file_extension": ".py",
      "mimetype": "text/x-python",
      "name": "python",
      "nbconvert_exporter": "python",
      "pygments_lexer": "ipython3",
      "version": "3.10.2"
    }
  },
  "nbformat": 4,
  "nbformat_minor": 0
}
