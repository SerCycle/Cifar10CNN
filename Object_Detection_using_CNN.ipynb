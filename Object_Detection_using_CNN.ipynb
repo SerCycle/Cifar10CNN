{
  "cells": [
    {
      "cell_type": "markdown",
      "metadata": {
        "id": "aEoRsa2M8J4U"
      },
      "source": [
        "**Import Library**"
      ]
    },
    {
      "cell_type": "code",
      "execution_count": 1,
      "metadata": {
        "id": "RR7sR1407fC3"
      },
      "outputs": [],
      "source": [
        "import tensorflow as tf\n",
        "\n",
        "from tensorflow.keras import datasets, layers, models\n",
        "import matplotlib.pyplot as plt"
      ]
    },
    {
      "cell_type": "markdown",
      "metadata": {
        "id": "LuAIOMfm8ssK"
      },
      "source": [
        "**Download and prepare the CIFAR-10 dataset**"
      ]
    },
    {
      "cell_type": "code",
      "execution_count": 2,
      "metadata": {
        "colab": {
          "base_uri": "https://localhost:8080/"
        },
        "id": "KBUsOuS68yb3",
        "outputId": "3cc80fb0-d036-467a-93ed-be7e93f0a74e"
      },
      "outputs": [],
      "source": [
        "(train_images, train_labels), (test_images, test_labels) = datasets.cifar10.load_data()"
      ]
    },
    {
      "cell_type": "code",
      "execution_count": 3,
      "metadata": {
        "id": "_pzP_TC29qgY"
      },
      "outputs": [],
      "source": [
        "train_images, test_images = train_images / 255.0, test_images / 255.0"
      ]
    },
    {
      "cell_type": "markdown",
      "metadata": {
        "id": "lMgnseSG_QpS"
      },
      "source": [
        "**Feature Extraction - Convolutional Base**"
      ]
    },
    {
      "cell_type": "code",
      "execution_count": 4,
      "metadata": {
        "colab": {
          "base_uri": "https://localhost:8080/"
        },
        "id": "YTrEG_4TANA2",
        "outputId": "27f78084-9700-43a8-8178-f271044e0d92"
      },
      "outputs": [
        {
          "data": {
            "text/plain": [
              "(32, 32, 3)"
            ]
          },
          "execution_count": 4,
          "metadata": {},
          "output_type": "execute_result"
        }
      ],
      "source": [
        "train_images[100].shape"
      ]
    },
    {
      "cell_type": "code",
      "execution_count": 119,
      "metadata": {
        "id": "9XiQ_W5N_Wyx"
      },
      "outputs": [],
      "source": [
        "model = models.Sequential()\n",
        "model.add(layers.Conv2D( 64, (3,3), activation='relu', input_shape=(32,32,3) ) )\n",
        "model.add(layers.MaxPooling2D( (2,2) ))\n",
        "model.add(layers.Conv2D( 64, (3,3), activation='relu' ) )\n",
        "model.add(layers.MaxPooling2D( (2,2) ))\n",
        "model.add(layers.Conv2D( 64, (3,3), activation='relu' ) )\n",
        "model.add(layers.Dropout(0.1))"
      ]
    },
    {
      "cell_type": "code",
      "execution_count": 120,
      "metadata": {
        "colab": {
          "base_uri": "https://localhost:8080/"
        },
        "id": "ZPZrZwqjAwa1",
        "outputId": "4a9c614b-a3f3-4ff7-b7a2-62acaf8e0bb0"
      },
      "outputs": [
        {
          "name": "stdout",
          "output_type": "stream",
          "text": [
            "Model: \"sequential_17\"\n",
            "_________________________________________________________________\n",
            " Layer (type)                Output Shape              Param #   \n",
            "=================================================================\n",
            " conv2d_51 (Conv2D)          (None, 30, 30, 64)        1792      \n",
            "                                                                 \n",
            " max_pooling2d_34 (MaxPoolin  (None, 15, 15, 64)       0         \n",
            " g2D)                                                            \n",
            "                                                                 \n",
            " conv2d_52 (Conv2D)          (None, 13, 13, 64)        36928     \n",
            "                                                                 \n",
            " max_pooling2d_35 (MaxPoolin  (None, 6, 6, 64)         0         \n",
            " g2D)                                                            \n",
            "                                                                 \n",
            " conv2d_53 (Conv2D)          (None, 4, 4, 64)          36928     \n",
            "                                                                 \n",
            " dropout_12 (Dropout)        (None, 4, 4, 64)          0         \n",
            "                                                                 \n",
            "=================================================================\n",
            "Total params: 75,648\n",
            "Trainable params: 75,648\n",
            "Non-trainable params: 0\n",
            "_________________________________________________________________\n"
          ]
        }
      ],
      "source": [
        "model.summary()"
      ]
    },
    {
      "cell_type": "markdown",
      "metadata": {
        "id": "rCHJbGRnA_e3"
      },
      "source": [
        "**Flatten & Fully Connected Layer**"
      ]
    },
    {
      "cell_type": "code",
      "execution_count": 121,
      "metadata": {
        "id": "iEtb8_85BE9W"
      },
      "outputs": [],
      "source": [
        "model.add(layers.Flatten())\n",
        "model.add(layers.Dense(256, activation= 'relu'))\n",
        "model.add(layers.Dense(100))"
      ]
    },
    {
      "cell_type": "code",
      "execution_count": 122,
      "metadata": {
        "colab": {
          "base_uri": "https://localhost:8080/"
        },
        "id": "yWNm-RKuC-hw",
        "outputId": "8fc0189b-08b2-4c1b-c914-883fb2705179"
      },
      "outputs": [
        {
          "name": "stdout",
          "output_type": "stream",
          "text": [
            "Model: \"sequential_17\"\n",
            "_________________________________________________________________\n",
            " Layer (type)                Output Shape              Param #   \n",
            "=================================================================\n",
            " conv2d_51 (Conv2D)          (None, 30, 30, 64)        1792      \n",
            "                                                                 \n",
            " max_pooling2d_34 (MaxPoolin  (None, 15, 15, 64)       0         \n",
            " g2D)                                                            \n",
            "                                                                 \n",
            " conv2d_52 (Conv2D)          (None, 13, 13, 64)        36928     \n",
            "                                                                 \n",
            " max_pooling2d_35 (MaxPoolin  (None, 6, 6, 64)         0         \n",
            " g2D)                                                            \n",
            "                                                                 \n",
            " conv2d_53 (Conv2D)          (None, 4, 4, 64)          36928     \n",
            "                                                                 \n",
            " dropout_12 (Dropout)        (None, 4, 4, 64)          0         \n",
            "                                                                 \n",
            " flatten_14 (Flatten)        (None, 1024)              0         \n",
            "                                                                 \n",
            " dense_28 (Dense)            (None, 256)               262400    \n",
            "                                                                 \n",
            " dense_29 (Dense)            (None, 100)               25700     \n",
            "                                                                 \n",
            "=================================================================\n",
            "Total params: 363,748\n",
            "Trainable params: 363,748\n",
            "Non-trainable params: 0\n",
            "_________________________________________________________________\n"
          ]
        }
      ],
      "source": [
        "model.summary()"
      ]
    },
    {
      "cell_type": "markdown",
      "metadata": {
        "id": "aLTWxtJ6DI69"
      },
      "source": [
        "**Compile and train the model**"
      ]
    },
    {
      "cell_type": "code",
      "execution_count": 123,
      "metadata": {
        "id": "LYydqMhEDIMs"
      },
      "outputs": [],
      "source": [
        "model.compile(optimizer='adam',\n",
        "              loss=tf.keras.losses.SparseCategoricalCrossentropy(from_logits=True),\n",
        "              metrics=['accuracy'])"
      ]
    },
    {
      "cell_type": "code",
      "execution_count": 124,
      "metadata": {
        "colab": {
          "base_uri": "https://localhost:8080/",
          "height": 659
        },
        "id": "nWsOJAFQD6Vt",
        "outputId": "a7a1c328-e5f2-48ed-a70a-ea01d9bec0a8"
      },
      "outputs": [
        {
          "name": "stdout",
          "output_type": "stream",
          "text": [
            "Epoch 1/10\n",
            "250/250 [==============================] - 33s 131ms/step - loss: 1.8516 - accuracy: 0.3352 - val_loss: 1.4567 - val_accuracy: 0.4730\n",
            "Epoch 2/10\n",
            "250/250 [==============================] - 33s 132ms/step - loss: 1.3828 - accuracy: 0.5043 - val_loss: 1.3158 - val_accuracy: 0.5257\n",
            "Epoch 3/10\n",
            "250/250 [==============================] - 35s 140ms/step - loss: 1.2303 - accuracy: 0.5627 - val_loss: 1.1527 - val_accuracy: 0.5895\n",
            "Epoch 4/10\n",
            "250/250 [==============================] - 37s 147ms/step - loss: 1.1135 - accuracy: 0.6059 - val_loss: 1.0750 - val_accuracy: 0.6226\n",
            "Epoch 5/10\n",
            "250/250 [==============================] - 33s 132ms/step - loss: 1.0338 - accuracy: 0.6359 - val_loss: 0.9953 - val_accuracy: 0.6455\n",
            "Epoch 6/10\n",
            "250/250 [==============================] - 32s 127ms/step - loss: 0.9606 - accuracy: 0.6622 - val_loss: 0.9411 - val_accuracy: 0.6707\n",
            "Epoch 7/10\n",
            "250/250 [==============================] - 32s 128ms/step - loss: 0.9076 - accuracy: 0.6819 - val_loss: 0.9672 - val_accuracy: 0.6562\n",
            "Epoch 8/10\n",
            "250/250 [==============================] - 33s 133ms/step - loss: 0.8589 - accuracy: 0.6992 - val_loss: 0.9149 - val_accuracy: 0.6780\n",
            "Epoch 9/10\n",
            "250/250 [==============================] - 32s 127ms/step - loss: 0.8110 - accuracy: 0.7155 - val_loss: 0.8667 - val_accuracy: 0.6988\n",
            "Epoch 10/10\n",
            "250/250 [==============================] - 32s 129ms/step - loss: 0.7750 - accuracy: 0.7304 - val_loss: 0.8273 - val_accuracy: 0.7151\n"
          ]
        }
      ],
      "source": [
        "history = model.fit(train_images, train_labels, epochs=10, batch_size=200, validation_data=(test_images, test_labels))"
      ]
    },
    {
      "cell_type": "markdown",
      "metadata": {
        "id": "4e0M3MXBGEUR"
      },
      "source": [
        "**Evaluate the model**"
      ]
    },
    {
      "cell_type": "code",
      "execution_count": 125,
      "metadata": {
        "colab": {
          "base_uri": "https://localhost:8080/"
        },
        "id": "8GddxZiCGf3D",
        "outputId": "5b2f34ea-c085-4a98-db2b-594943050616"
      },
      "outputs": [
        {
          "name": "stdout",
          "output_type": "stream",
          "text": [
            "313/313 [==============================] - 2s 7ms/step - loss: 0.8273 - accuracy: 0.7151\n"
          ]
        }
      ],
      "source": [
        "test_loss, test_acc = model.evaluate(test_images, test_labels)"
      ]
    },
    {
      "cell_type": "code",
      "execution_count": 126,
      "metadata": {
        "colab": {
          "base_uri": "https://localhost:8080/",
          "height": 279
        },
        "id": "5gaXnaZ_GDak",
        "outputId": "2819e3de-2c68-4616-96f3-384163a546d3"
      },
      "outputs": [
        {
          "data": {
            "image/png": "[encoded data removed]",
            "text/plain": [
              "<Figure size 432x288 with 1 Axes>"
            ]
          },
          "metadata": {
            "needs_background": "light"
          },
          "output_type": "display_data"
        }
      ],
      "source": [
        "plt.plot(history.history['accuracy'], label='accuracy')\n",
        "plt.plot(history.history['val_accuracy'], label='val_accuracy')\n",
        "plt.xlabel('Epoch')\n",
        "plt.ylabel('Accuracy')\n",
        "plt.show()\n",
        "\n",
        "\n"
      ]
    },
    {
      "cell_type": "code",
      "execution_count": 127,
      "metadata": {
        "colab": {
          "base_uri": "https://localhost:8080/",
          "height": 279
        },
        "id": "SxIoOUXaGtrN",
        "outputId": "4d1fb2f9-8070-4bce-f80d-81d8781e27c6"
      },
      "outputs": [
        {
          "data": {
            "image/png": "[encoded data removed]",
            "text/plain": [
              "<Figure size 432x288 with 1 Axes>"
            ]
          },
          "metadata": {
            "needs_background": "light"
          },
          "output_type": "display_data"
        }
      ],
      "source": [
        "plt.plot(history.history['loss'], label='loss')\n",
        "plt.plot(history.history['val_loss'], label='val_loss')\n",
        "plt.xlabel('Epoch')\n",
        "plt.ylabel('Loss')\n",
        "plt.show()\n",
        "\n",
        "\n"
      ]
    }
  ],
  "metadata": {
    "accelerator": "GPU",
    "colab": {
      "name": "Object Detection using CNN.ipynb",
      "provenance": []
    },
    "kernelspec": {
      "display_name": "Python 3",
      "name": "python3"
    },
    "language_info": {
      "codemirror_mode": {
        "name": "ipython",
        "version": 3
      },
      "file_extension": ".py",
      "mimetype": "text/x-python",
      "name": "python",
      "nbconvert_exporter": "python",
      "pygments_lexer": "ipython3",
      "version": "3.10.2"
    }
  },
  "nbformat": 4,
  "nbformat_minor": 0
}
